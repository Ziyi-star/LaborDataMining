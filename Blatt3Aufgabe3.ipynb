{
 "cells": [
  {
   "cell_type": "code",
   "execution_count": 1,
   "id": "a98a3b89",
   "metadata": {},
   "outputs": [
    {
     "data": {
      "text/html": [
       "<style>.container { width:85% !important; }</style>"
      ],
      "text/plain": [
       "<IPython.core.display.HTML object>"
      ]
     },
     "metadata": {},
     "output_type": "display_data"
    }
   ],
   "source": [
    "from IPython.display import display, HTML\n",
    "display(HTML(\"<style>.container { width:85% !important; }</style>\"))"
   ]
  },
  {
   "cell_type": "code",
   "execution_count": 3,
   "id": "c4b08877",
   "metadata": {},
   "outputs": [
    {
     "data": {
      "text/html": [
       "<div>\n",
       "<style scoped>\n",
       "    .dataframe tbody tr th:only-of-type {\n",
       "        vertical-align: middle;\n",
       "    }\n",
       "\n",
       "    .dataframe tbody tr th {\n",
       "        vertical-align: top;\n",
       "    }\n",
       "\n",
       "    .dataframe thead th {\n",
       "        text-align: right;\n",
       "    }\n",
       "</style>\n",
       "<table border=\"1\" class=\"dataframe\">\n",
       "  <thead>\n",
       "    <tr style=\"text-align: right;\">\n",
       "      <th></th>\n",
       "      <th>Kundengruppe</th>\n",
       "      <th>Artikelgruppe</th>\n",
       "      <th>Region</th>\n",
       "      <th>Umsatz</th>\n",
       "    </tr>\n",
       "  </thead>\n",
       "  <tbody>\n",
       "    <tr>\n",
       "      <th>0</th>\n",
       "      <td>Fachhandel</td>\n",
       "      <td>Tourenräder</td>\n",
       "      <td>West</td>\n",
       "      <td>niedrig</td>\n",
       "    </tr>\n",
       "    <tr>\n",
       "      <th>1</th>\n",
       "      <td>Discounter</td>\n",
       "      <td>Cityräder</td>\n",
       "      <td>West</td>\n",
       "      <td>hoch</td>\n",
       "    </tr>\n",
       "    <tr>\n",
       "      <th>2</th>\n",
       "      <td>Fachhandel</td>\n",
       "      <td>Mountainbikes</td>\n",
       "      <td>Nord</td>\n",
       "      <td>mittel</td>\n",
       "    </tr>\n",
       "    <tr>\n",
       "      <th>3</th>\n",
       "      <td>Fachhandel</td>\n",
       "      <td>Tourenräder</td>\n",
       "      <td>Nord</td>\n",
       "      <td>niedrig</td>\n",
       "    </tr>\n",
       "    <tr>\n",
       "      <th>4</th>\n",
       "      <td>Fachhandel</td>\n",
       "      <td>Tourenräder</td>\n",
       "      <td>Süd</td>\n",
       "      <td>hoch</td>\n",
       "    </tr>\n",
       "    <tr>\n",
       "      <th>5</th>\n",
       "      <td>Kaufhaus</td>\n",
       "      <td>Mountainbikes</td>\n",
       "      <td>Nord</td>\n",
       "      <td>mittel</td>\n",
       "    </tr>\n",
       "    <tr>\n",
       "      <th>6</th>\n",
       "      <td>Discounter</td>\n",
       "      <td>Mountainbikes</td>\n",
       "      <td>West</td>\n",
       "      <td>mittel</td>\n",
       "    </tr>\n",
       "    <tr>\n",
       "      <th>7</th>\n",
       "      <td>Discounter</td>\n",
       "      <td>Cityräder</td>\n",
       "      <td>West</td>\n",
       "      <td>hoch</td>\n",
       "    </tr>\n",
       "  </tbody>\n",
       "</table>\n",
       "</div>"
      ],
      "text/plain": [
       "  Kundengruppe  Artikelgruppe Region   Umsatz\n",
       "0  Fachhandel     Tourenräder   West  niedrig\n",
       "1   Discounter      Cityräder   West    hoch \n",
       "2  Fachhandel   Mountainbikes   Nord   mittel\n",
       "3  Fachhandel     Tourenräder   Nord  niedrig\n",
       "4  Fachhandel     Tourenräder    Süd    hoch \n",
       "5     Kaufhaus  Mountainbikes   Nord  mittel \n",
       "6   Discounter  Mountainbikes   West  mittel \n",
       "7   Discounter      Cityräder   West    hoch "
      ]
     },
     "execution_count": 3,
     "metadata": {},
     "output_type": "execute_result"
    }
   ],
   "source": [
    "import pandas as pd\n",
    "# Load the data\n",
    "data = pd.read_csv('umsatz.csv')\n",
    "data"
   ]
  },
  {
   "cell_type": "code",
   "execution_count": null,
   "id": "645de74f",
   "metadata": {},
   "outputs": [],
   "source": []
  }
 ],
 "metadata": {
  "kernelspec": {
   "display_name": "Python 3 (ipykernel)",
   "language": "python",
   "name": "python3"
  },
  "language_info": {
   "codemirror_mode": {
    "name": "ipython",
    "version": 3
   },
   "file_extension": ".py",
   "mimetype": "text/x-python",
   "name": "python",
   "nbconvert_exporter": "python",
   "pygments_lexer": "ipython3",
   "version": "3.9.15"
  },
  "toc": {
   "base_numbering": 1,
   "nav_menu": {},
   "number_sections": true,
   "sideBar": true,
   "skip_h1_title": false,
   "title_cell": "Table of Contents",
   "title_sidebar": "Contents",
   "toc_cell": false,
   "toc_position": {},
   "toc_section_display": true,
   "toc_window_display": false
  }
 },
 "nbformat": 4,
 "nbformat_minor": 5
}
