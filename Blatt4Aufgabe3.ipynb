{
 "cells": [
  {
   "cell_type": "code",
   "execution_count": 1,
   "id": "20ff9ca9",
   "metadata": {},
   "outputs": [
    {
     "data": {
      "text/html": [
       "<style>.container { width:85% !important; }</style>"
      ],
      "text/plain": [
       "<IPython.core.display.HTML object>"
      ]
     },
     "metadata": {},
     "output_type": "display_data"
    }
   ],
   "source": [
    "from IPython.display import display, HTML\n",
    "display(HTML(\"<style>.container { width:85% !important; }</style>\"))"
   ]
  },
  {
   "cell_type": "code",
   "execution_count": 10,
   "id": "d5a08e5f",
   "metadata": {},
   "outputs": [
    {
     "data": {
      "text/html": [
       "<div>\n",
       "<style scoped>\n",
       "    .dataframe tbody tr th:only-of-type {\n",
       "        vertical-align: middle;\n",
       "    }\n",
       "\n",
       "    .dataframe tbody tr th {\n",
       "        vertical-align: top;\n",
       "    }\n",
       "\n",
       "    .dataframe thead th {\n",
       "        text-align: right;\n",
       "    }\n",
       "</style>\n",
       "<table border=\"1\" class=\"dataframe\">\n",
       "  <thead>\n",
       "    <tr style=\"text-align: right;\">\n",
       "      <th></th>\n",
       "      <th>0</th>\n",
       "      <th>1</th>\n",
       "    </tr>\n",
       "  </thead>\n",
       "  <tbody>\n",
       "    <tr>\n",
       "      <th>0</th>\n",
       "      <td>1</td>\n",
       "      <td>2</td>\n",
       "    </tr>\n",
       "    <tr>\n",
       "      <th>1</th>\n",
       "      <td>2</td>\n",
       "      <td>2</td>\n",
       "    </tr>\n",
       "    <tr>\n",
       "      <th>2</th>\n",
       "      <td>1</td>\n",
       "      <td>3</td>\n",
       "    </tr>\n",
       "    <tr>\n",
       "      <th>3</th>\n",
       "      <td>4</td>\n",
       "      <td>2</td>\n",
       "    </tr>\n",
       "    <tr>\n",
       "      <th>4</th>\n",
       "      <td>5</td>\n",
       "      <td>4</td>\n",
       "    </tr>\n",
       "  </tbody>\n",
       "</table>\n",
       "</div>"
      ],
      "text/plain": [
       "   0  1\n",
       "0  1  2\n",
       "1  2  2\n",
       "2  1  3\n",
       "3  4  2\n",
       "4  5  4"
      ]
     },
     "execution_count": 10,
     "metadata": {},
     "output_type": "execute_result"
    }
   ],
   "source": [
    "import numpy as np\n",
    "import pandas as pd\n",
    "\n",
    "# Load the data from the CSV file\n",
    "data = pd.read_csv('dataB4A3.csv', header=None)\n",
    "data"
   ]
  },
  {
   "cell_type": "code",
   "execution_count": 11,
   "id": "bf1685df",
   "metadata": {},
   "outputs": [
    {
     "name": "stdout",
     "output_type": "stream",
     "text": [
      "[1 2 1 4 5]\n",
      "[2 2 3 2 4]\n"
     ]
    }
   ],
   "source": [
    "# Extract the x and y values as numpy arrays\n",
    "x = data.iloc[:, 0].values\n",
    "y = data.iloc[:, 1].values\n",
    "print(x)\n",
    "print(y)"
   ]
  },
  {
   "cell_type": "code",
   "execution_count": 12,
   "id": "91700cb2",
   "metadata": {},
   "outputs": [
    {
     "data": {
      "text/plain": [
       "0.4923659639173309"
      ]
     },
     "execution_count": 12,
     "metadata": {},
     "output_type": "execute_result"
    }
   ],
   "source": [
    "# Calculate the correlation coefficient\n",
    "corr_coef = np.corrcoef(x, y)[0, 1]\n",
    "corr_coef"
   ]
  },
  {
   "cell_type": "code",
   "execution_count": 13,
   "id": "c928b031",
   "metadata": {},
   "outputs": [
    {
     "data": {
      "text/plain": [
       "array([[ 1,  1,  1],\n",
       "       [ 1,  2,  4],\n",
       "       [ 1,  1,  1],\n",
       "       [ 1,  4, 16],\n",
       "       [ 1,  5, 25]], dtype=int64)"
      ]
     },
     "execution_count": 13,
     "metadata": {},
     "output_type": "execute_result"
    }
   ],
   "source": [
    "# Construct the design matrix\n",
    "X = np.column_stack([np.ones_like(x), x, x**2])\n",
    "X"
   ]
  },
  {
   "cell_type": "code",
   "execution_count": null,
   "id": "c08bd865",
   "metadata": {},
   "outputs": [],
   "source": [
    "# Calculate the optimal parameters of the regression polynomial\n",
    "params = np.linalg.inv(X.T @ X) @ X.T @ y"
   ]
  },
  {
   "cell_type": "code",
   "execution_count": 14,
   "id": "b2623714",
   "metadata": {},
   "outputs": [
    {
     "name": "stdout",
     "output_type": "stream",
     "text": [
      "Correlation coefficient: 0.492\n",
      "Regression polynomial: y = 4.281 + -2.105x + 0.404x^2\n"
     ]
    }
   ],
   "source": [
    "# Print the correlation coefficient and the optimal parameters\n",
    "print(f'Correlation coefficient: {corr_coef:.3f}')\n",
    "print(f'Regression polynomial: y = {params[0]:.3f} + {params[1]:.3f}x + {params[2]:.3f}x^2')\n"
   ]
  },
  {
   "cell_type": "code",
   "execution_count": 15,
   "id": "e2e85a2a",
   "metadata": {},
   "outputs": [
    {
     "name": "stdout",
     "output_type": "stream",
     "text": [
      "Optimale Parameter theta: [2.1312336  0.04986877]\n",
      "Regressionsfunktion: y = 2.13 + 0.05x^2\n"
     ]
    }
   ],
   "source": [
    "import numpy as np\n",
    "\n",
    "# Daten einlesen\n",
    "data = np.array([[1,2],[2,2],[1,3],[4,2],[5,4]])\n",
    "\n",
    "# Designmatrix aufstellen\n",
    "X = np.ones((data.shape[0], 2))\n",
    "X[:,1] = data[:,0]**2\n",
    "\n",
    "# Zielwerte definieren\n",
    "y = data[:,1]\n",
    "\n",
    "# Berechnung der optimalen Parameter theta\n",
    "theta = np.linalg.inv(X.T @ X) @ X.T @ y\n",
    "\n",
    "# Ausgabe der optimalen Parameter und der Regressionsfunktion\n",
    "print('Optimale Parameter theta:', theta)\n",
    "print('Regressionsfunktion: y = {:.2f} + {:.2f}x^2'.format(theta[0], theta[1]))"
   ]
  },
  {
   "cell_type": "code",
   "execution_count": null,
   "id": "03c257b1",
   "metadata": {},
   "outputs": [],
   "source": []
  }
 ],
 "metadata": {
  "kernelspec": {
   "display_name": "Python 3 (ipykernel)",
   "language": "python",
   "name": "python3"
  },
  "language_info": {
   "codemirror_mode": {
    "name": "ipython",
    "version": 3
   },
   "file_extension": ".py",
   "mimetype": "text/x-python",
   "name": "python",
   "nbconvert_exporter": "python",
   "pygments_lexer": "ipython3",
   "version": "3.9.15"
  },
  "toc": {
   "base_numbering": 1,
   "nav_menu": {},
   "number_sections": true,
   "sideBar": true,
   "skip_h1_title": false,
   "title_cell": "Table of Contents",
   "title_sidebar": "Contents",
   "toc_cell": false,
   "toc_position": {},
   "toc_section_display": true,
   "toc_window_display": false
  }
 },
 "nbformat": 4,
 "nbformat_minor": 5
}
